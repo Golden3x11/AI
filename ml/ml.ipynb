{
 "cells": [
  {
   "cell_type": "code",
   "execution_count": 292,
   "metadata": {
    "collapsed": true
   },
   "outputs": [],
   "source": [
    "import pandas as pd"
   ]
  },
  {
   "cell_type": "code",
   "execution_count": 293,
   "metadata": {
    "collapsed": false
   },
   "outputs": [],
   "source": [
    "df = pd.read_csv('data/glass.csv')\n",
    "df = df.drop(columns=['idx'])"
   ]
  },
  {
   "cell_type": "code",
   "execution_count": 294,
   "metadata": {
    "collapsed": false
   },
   "outputs": [
    {
     "name": "stdout",
     "output_type": "stream",
     "text": [
      "        RI     Na    Mg    Al     Si     K    Ca   Ba   Fe  class\n",
      "0  1.52101  13.64  4.49  1.10  71.78  0.06  8.75  0.0  0.0      1\n",
      "1  1.51761  13.89  3.60  1.36  72.73  0.48  7.83  0.0  0.0      1\n",
      "2  1.51618  13.53  3.55  1.54  72.99  0.39  7.78  0.0  0.0      1\n",
      "3  1.51766  13.21  3.69  1.29  72.61  0.57  8.22  0.0  0.0      1\n",
      "4  1.51742  13.27  3.62  1.24  73.08  0.55  8.07  0.0  0.0      1\n"
     ]
    }
   ],
   "source": [
    "print(df.head())"
   ]
  },
  {
   "attachments": {},
   "cell_type": "markdown",
   "metadata": {
    "collapsed": false
   },
   "source": [
    "# Eksploracja danych"
   ]
  },
  {
   "cell_type": "code",
   "execution_count": 295,
   "metadata": {
    "collapsed": false
   },
   "outputs": [
    {
     "name": "stdout",
     "output_type": "stream",
     "text": [
      "(214, 10)\n"
     ]
    }
   ],
   "source": [
    "print(df.shape)"
   ]
  },
  {
   "cell_type": "code",
   "execution_count": 296,
   "metadata": {
    "collapsed": false
   },
   "outputs": [],
   "source": [
    "# sns.pairplot(df, hue='class');"
   ]
  },
  {
   "cell_type": "code",
   "execution_count": 297,
   "metadata": {
    "collapsed": false
   },
   "outputs": [
    {
     "name": "stdout",
     "output_type": "stream",
     "text": [
      "               RI          Na          Mg          Al          Si           K  \\\n",
      "count  214.000000  214.000000  214.000000  214.000000  214.000000  214.000000   \n",
      "mean     1.518365   13.407850    2.684533    1.444907   72.650935    0.497056   \n",
      "std      0.003037    0.816604    1.442408    0.499270    0.774546    0.652192   \n",
      "min      1.511150   10.730000    0.000000    0.290000   69.810000    0.000000   \n",
      "25%      1.516522   12.907500    2.115000    1.190000   72.280000    0.122500   \n",
      "50%      1.517680   13.300000    3.480000    1.360000   72.790000    0.555000   \n",
      "75%      1.519157   13.825000    3.600000    1.630000   73.087500    0.610000   \n",
      "max      1.533930   17.380000    4.490000    3.500000   75.410000    6.210000   \n",
      "\n",
      "               Ca          Ba          Fe       class  \n",
      "count  214.000000  214.000000  214.000000  214.000000  \n",
      "mean     8.956963    0.175047    0.057009    2.780374  \n",
      "std      1.423153    0.497219    0.097439    2.103739  \n",
      "min      5.430000    0.000000    0.000000    1.000000  \n",
      "25%      8.240000    0.000000    0.000000    1.000000  \n",
      "50%      8.600000    0.000000    0.000000    2.000000  \n",
      "75%      9.172500    0.000000    0.100000    3.000000  \n",
      "max     16.190000    3.150000    0.510000    7.000000  \n"
     ]
    }
   ],
   "source": [
    "print(df.describe())"
   ]
  },
  {
   "cell_type": "code",
   "execution_count": 298,
   "metadata": {
    "collapsed": false
   },
   "outputs": [
    {
     "name": "stdout",
     "output_type": "stream",
     "text": [
      "2    76\n",
      "1    70\n",
      "7    29\n",
      "3    17\n",
      "5    13\n",
      "6     9\n",
      "Name: class, dtype: int64\n"
     ]
    }
   ],
   "source": [
    "print(df['class'].value_counts())"
   ]
  },
  {
   "cell_type": "code",
   "execution_count": 299,
   "metadata": {
    "collapsed": false
   },
   "outputs": [
    {
     "name": "stdout",
     "output_type": "stream",
     "text": [
      "             RI        Na        Mg        Al        Si         K        Ca  \\\n",
      "RI     1.000000 -0.191885 -0.122274 -0.407326 -0.542052 -0.289833  0.810403   \n",
      "Na    -0.191885  1.000000 -0.273732  0.156794 -0.069809 -0.266087 -0.275442   \n",
      "Mg    -0.122274 -0.273732  1.000000 -0.481799 -0.165927  0.005396 -0.443750   \n",
      "Al    -0.407326  0.156794 -0.481799  1.000000 -0.005524  0.325958 -0.259592   \n",
      "Si    -0.542052 -0.069809 -0.165927 -0.005524  1.000000 -0.193331 -0.208732   \n",
      "K     -0.289833 -0.266087  0.005396  0.325958 -0.193331  1.000000 -0.317836   \n",
      "Ca     0.810403 -0.275442 -0.443750 -0.259592 -0.208732 -0.317836  1.000000   \n",
      "Ba    -0.000386  0.326603 -0.492262  0.479404 -0.102151 -0.042618 -0.112841   \n",
      "Fe     0.143010 -0.241346  0.083060 -0.074402 -0.094201 -0.007719  0.124968   \n",
      "class -0.164237  0.502898 -0.744993  0.598829  0.151565 -0.010054  0.000952   \n",
      "\n",
      "             Ba        Fe     class  \n",
      "RI    -0.000386  0.143010 -0.164237  \n",
      "Na     0.326603 -0.241346  0.502898  \n",
      "Mg    -0.492262  0.083060 -0.744993  \n",
      "Al     0.479404 -0.074402  0.598829  \n",
      "Si    -0.102151 -0.094201  0.151565  \n",
      "K     -0.042618 -0.007719 -0.010054  \n",
      "Ca    -0.112841  0.124968  0.000952  \n",
      "Ba     1.000000 -0.058692  0.575161  \n",
      "Fe    -0.058692  1.000000 -0.188278  \n",
      "class  0.575161 -0.188278  1.000000  \n"
     ]
    }
   ],
   "source": [
    "print(df.corr())"
   ]
  },
  {
   "attachments": {},
   "cell_type": "markdown",
   "metadata": {
    "collapsed": false
   },
   "source": [
    "# Przygotowanie danych"
   ]
  },
  {
   "cell_type": "code",
   "execution_count": 300,
   "metadata": {
    "collapsed": false
   },
   "outputs": [],
   "source": [
    "from sklearn.preprocessing import StandardScaler\n",
    "from sklearn.model_selection import train_test_split\n",
    "from sklearn.pipeline import Pipeline\n",
    "from sklearn.metrics import f1_score, accuracy_score, recall_score, precision_score\n",
    "from sklearn.naive_bayes import GaussianNB\n",
    "from sklearn.tree import DecisionTreeClassifier\n",
    "from sklearn.ensemble import RandomForestClassifier\n",
    "from sklearn.svm import SVC\n",
    "from sklearn.model_selection import GridSearchCV\n",
    "from sklearn.feature_selection import SelectKBest\n",
    "from sklearn.decomposition import PCA"
   ]
  },
  {
   "cell_type": "code",
   "execution_count": 301,
   "metadata": {
    "collapsed": false
   },
   "outputs": [],
   "source": [
    "SEED = 2137\n",
    "TEST_SIZE = 0.2\n",
    "X = df.drop(['class'], axis=1)\n",
    "y = df['class']"
   ]
  },
  {
   "cell_type": "code",
   "execution_count": 302,
   "outputs": [],
   "source": [
    "def split_train_test_data(X, y, test_size=TEST_SIZE, seed=SEED):\n",
    "    return train_test_split(X, y, test_size=test_size, random_state=seed)"
   ],
   "metadata": {
    "collapsed": false
   }
  },
  {
   "cell_type": "code",
   "execution_count": 303,
   "metadata": {
    "collapsed": false
   },
   "outputs": [],
   "source": [
    "def create_pipeline(classifier, preprocessing):\n",
    "    pipeline = Pipeline([\n",
    "        ('preprocessing', preprocessing),\n",
    "        ('classifier', classifier)\n",
    "    ])\n",
    "\n",
    "    return pipeline"
   ]
  },
  {
   "cell_type": "code",
   "execution_count": 304,
   "metadata": {
    "collapsed": false
   },
   "outputs": [],
   "source": [
    "def evaluate_model(y_true, y_pred):\n",
    "    metrics = {\n",
    "        'F1 Score': f1_score(y_true, y_pred, average='micro'),\n",
    "        'Accuracy': accuracy_score(y_true, y_pred),\n",
    "        'Recall': recall_score(y_true, y_pred, average='micro'),\n",
    "        'Precision': precision_score(y_true, y_pred, average='micro')\n",
    "    }\n",
    "\n",
    "    return metrics"
   ]
  },
  {
   "cell_type": "markdown",
   "source": [
    "# Define the classifiers and their hyperparameter grids"
   ],
   "metadata": {
    "collapsed": false
   }
  },
  {
   "cell_type": "code",
   "execution_count": 305,
   "metadata": {},
   "outputs": [],
   "source": [
    "classifiers = [\n",
    "    ('Naive Bayes', GaussianNB(), {}),\n",
    "    ('Decision Tree', DecisionTreeClassifier(), {\n",
    "        'classifier__max_depth': [None, 5, 10],\n",
    "        'classifier__criterion': ['gini', 'entropy']\n",
    "    }),\n",
    "    ('Random Forest', RandomForestClassifier(), {\n",
    "        'classifier__n_estimators': [100, 200],\n",
    "        'classifier__max_depth': [None, 5]\n",
    "    }),\n",
    "    ('SVM', SVC(), {\n",
    "        'classifier__C': [1.0, 10.0],\n",
    "        'classifier__kernel': ['linear', 'rbf']\n",
    "    })\n",
    "]"
   ]
  },
  {
   "cell_type": "markdown",
   "source": [
    "# Define the preprocessors\n"
   ],
   "metadata": {
    "collapsed": false
   }
  },
  {
   "cell_type": "code",
   "execution_count": 308,
   "outputs": [],
   "source": [
    "preprocessors = [\n",
    "    ('None', None),\n",
    "    ('Normalization', StandardScaler()),\n",
    "    # ('Feature Selection', SelectKBest(score_func=f1_score, k=5)),\n",
    "    ('PCA', PCA(n_components=2)),\n",
    "]"
   ],
   "metadata": {
    "collapsed": false
   }
  },
  {
   "cell_type": "code",
   "execution_count": 309,
   "outputs": [],
   "source": [
    "results = []\n",
    "\n",
    "X_train, X_test, y_train, y_test = split_train_test_data(X, y)\n",
    "\n",
    "for prep_name, preprocessor in preprocessors:\n",
    "    for clf_name, classifier, params in classifiers:\n",
    "        pipeline = create_pipeline(classifier, preprocessor)\n",
    "\n",
    "        grid_search = GridSearchCV(pipeline, params, scoring='f1_micro', cv=5)\n",
    "        grid_search.fit(X, y)\n",
    "\n",
    "        best_estimator = grid_search.best_estimator_\n",
    "        y_pred = best_estimator.predict(X_test)\n",
    "        metrics = evaluate_model(y_test, y_pred)\n",
    "\n",
    "        # Collect the results\n",
    "        result = {\n",
    "            'Preprocessor': prep_name,\n",
    "            'Classifier': clf_name,\n",
    "            'Best Parameters': grid_search.best_params_,\n",
    "            **metrics\n",
    "        }\n",
    "        results.append(result)"
   ],
   "metadata": {
    "collapsed": false
   }
  },
  {
   "cell_type": "code",
   "execution_count": 310,
   "outputs": [
    {
     "name": "stdout",
     "output_type": "stream",
     "text": [
      "[{'Preprocessor': 'None', 'Classifier': 'Naive Bayes', 'Best Parameters': {}, 'F1 Score': 0.5116279069767442, 'Accuracy': 0.5116279069767442, 'Recall': 0.5116279069767442, 'Precision': 0.5116279069767442}, {'Preprocessor': 'None', 'Classifier': 'Decision Tree', 'Best Parameters': {'classifier__criterion': 'entropy', 'classifier__max_depth': 5}, 'F1 Score': 0.9069767441860465, 'Accuracy': 0.9069767441860465, 'Recall': 0.9069767441860465, 'Precision': 0.9069767441860465}, {'Preprocessor': 'None', 'Classifier': 'Random Forest', 'Best Parameters': {'classifier__max_depth': None, 'classifier__n_estimators': 200}, 'F1 Score': 1.0, 'Accuracy': 1.0, 'Recall': 1.0, 'Precision': 1.0}, {'Preprocessor': 'None', 'Classifier': 'SVM', 'Best Parameters': {'classifier__C': 10.0, 'classifier__kernel': 'linear'}, 'F1 Score': 0.7441860465116278, 'Accuracy': 0.7441860465116279, 'Recall': 0.7441860465116279, 'Precision': 0.7441860465116279}, {'Preprocessor': 'Normalization', 'Classifier': 'Naive Bayes', 'Best Parameters': {}, 'F1 Score': 0.5116279069767442, 'Accuracy': 0.5116279069767442, 'Recall': 0.5116279069767442, 'Precision': 0.5116279069767442}, {'Preprocessor': 'Normalization', 'Classifier': 'Decision Tree', 'Best Parameters': {'classifier__criterion': 'entropy', 'classifier__max_depth': 5}, 'F1 Score': 0.8604651162790697, 'Accuracy': 0.8604651162790697, 'Recall': 0.8604651162790697, 'Precision': 0.8604651162790697}, {'Preprocessor': 'Normalization', 'Classifier': 'Random Forest', 'Best Parameters': {'classifier__max_depth': None, 'classifier__n_estimators': 200}, 'F1 Score': 1.0, 'Accuracy': 1.0, 'Recall': 1.0, 'Precision': 1.0}, {'Preprocessor': 'Normalization', 'Classifier': 'SVM', 'Best Parameters': {'classifier__C': 1.0, 'classifier__kernel': 'rbf'}, 'F1 Score': 0.8372093023255814, 'Accuracy': 0.8372093023255814, 'Recall': 0.8372093023255814, 'Precision': 0.8372093023255814}, {'Preprocessor': 'PCA', 'Classifier': 'Naive Bayes', 'Best Parameters': {}, 'F1 Score': 0.46511627906976744, 'Accuracy': 0.46511627906976744, 'Recall': 0.46511627906976744, 'Precision': 0.46511627906976744}, {'Preprocessor': 'PCA', 'Classifier': 'Decision Tree', 'Best Parameters': {'classifier__criterion': 'entropy', 'classifier__max_depth': 5}, 'F1 Score': 0.6976744186046512, 'Accuracy': 0.6976744186046512, 'Recall': 0.6976744186046512, 'Precision': 0.6976744186046512}, {'Preprocessor': 'PCA', 'Classifier': 'Random Forest', 'Best Parameters': {'classifier__max_depth': 5, 'classifier__n_estimators': 100}, 'F1 Score': 0.7906976744186046, 'Accuracy': 0.7906976744186046, 'Recall': 0.7906976744186046, 'Precision': 0.7906976744186046}, {'Preprocessor': 'PCA', 'Classifier': 'SVM', 'Best Parameters': {'classifier__C': 1.0, 'classifier__kernel': 'rbf'}, 'F1 Score': 0.6511627906976745, 'Accuracy': 0.6511627906976745, 'Recall': 0.6511627906976745, 'Precision': 0.6511627906976745}]\n"
     ]
    }
   ],
   "source": [
    "print(results)"
   ],
   "metadata": {
    "collapsed": false
   }
  }
 ],
 "metadata": {
  "kernelspec": {
   "display_name": "Python 3",
   "language": "python",
   "name": "python3"
  },
  "language_info": {
   "codemirror_mode": {
    "name": "ipython",
    "version": 3
   },
   "file_extension": ".py",
   "mimetype": "text/x-python",
   "name": "python",
   "nbconvert_exporter": "python",
   "pygments_lexer": "ipython3",
   "version": "3.11.2"
  }
 },
 "nbformat": 4,
 "nbformat_minor": 0
}
